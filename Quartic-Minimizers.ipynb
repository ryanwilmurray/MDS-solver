{
 "cells": [
  {
   "cell_type": "markdown",
   "metadata": {},
   "source": [
    "Let's try to construct a function which finds the minimizer of a cubic, given its coefficients. To start, let's assume that\n",
    "\n",
    "$$f(y) = y^4 - 2ay^2 + by$$.\n",
    "\n",
    "Let's rewrite this as\n",
    "$$ f(y) = (y^2 - a)^2 + by + c$$\n",
    "\n",
    "If $b = 0$ then we immediately have that $y = \\pm \\sqrt{a}$. If $b > 0$ this leads us to suspect that $y = -\\sqrt{a}$ is a good initial guess, while if $b <0$ then we suspect that $y = +\\sqrt{a}$ is a good guess."
   ]
  },
  {
   "cell_type": "code",
   "execution_count": 28,
   "metadata": {},
   "outputs": [
    {
     "data": {
      "image/png": "[encoded data removed]",
      "text/plain": [
       "<Figure size 432x288 with 1 Axes>"
      ]
     },
     "metadata": {
      "needs_background": "light"
     },
     "output_type": "display_data"
    },
    {
     "name": "stdout",
     "output_type": "stream",
     "text": [
      "-1.4142135623730951\n"
     ]
    }
   ],
   "source": [
    "import numpy as np\n",
    "import matplotlib.pyplot as plt\n",
    "import scipy as sp\n",
    "import scipy.linalg as spla\n",
    "\n",
    "def quartic_one_d(a,b,iterations=100):\n",
    "    #Returns an approximate minimizer for a,b, as above.\n",
    "    \n",
    "    if a > 0:\n",
    "        if b == 0:\n",
    "            return np.sqrt(a)\n",
    "        elif b>0:\n",
    "            y0 = -np.sqrt(a)\n",
    "        else:\n",
    "            y0 = np.sqrt(a)\n",
    "    else:\n",
    "        y0 = 0\n",
    "    \n",
    "    \n",
    "    \n",
    "    step_strength = .1#*(np.abs(a) + np.abs(b))\n",
    "    \n",
    "    for i in range(iterations):\n",
    "        #print(step_strength*(b + 2*y0*2*(y0**2-a)))\n",
    "        #y0 -= step_strength*(b + 2*y0*2*(y0**2-a))\n",
    "        gradient = 4*y0**3 - 4*a*y0 + b\n",
    "        if np.abs(gradient) < step_strength:\n",
    "            y0 -= step_strength*(4*y0**3 - 4*a*y0 + b)\n",
    "        else:\n",
    "            y0 -= step_strength*gradient/np.abs(gradient)\n",
    "        #print(y0)\n",
    "    \n",
    "    return y0\n",
    "\n",
    "def quartic_one_d_vectorized(a,b,iterations=100):\n",
    "    y0 = np.zeros(a.shape)\n",
    "    \n",
    "    y0 = np.sqrt(np.abs(a))*(1.*(b <= 0) - 1.*(b >0))\n",
    "    \n",
    "    step_strength = .1#*(np.abs(a) + np.abs(b))\n",
    "    \n",
    "    for i in range(iterations):\n",
    "        #print(step_strength*(b + 2*y0*2*(y0**2-a)))\n",
    "        #y0 -= step_strength*(b + 2*y0*2*(y0**2-a))\n",
    "        gradient = 4*y0**3 - 4*a*y0 + b\n",
    "        \n",
    "        y0 -= step_strength*gradient/(np.abs(gradient) + step_strength**2)\n",
    "\n",
    "    \n",
    "    return y0\n",
    "\n",
    "def plot_quartic(a,b):\n",
    "    y = np.linspace(-3,3,100)\n",
    "\n",
    "    f = y**4 -2*a*y**2 + b*y\n",
    "\n",
    "    plt.plot(y,f)\n",
    "\n",
    "\n",
    "a = 2\n",
    "b = 1\n",
    "\n",
    "approx_min = quartic_one_d(a,b)\n",
    "approx_val = approx_min**4 - 2*a*approx_min**2 + b*approx_min\n",
    "\n",
    "y = np.linspace(-3,3,100)\n",
    "\n",
    "f = y**4 -2*a*y**2 + b*y\n",
    "\n",
    "plt.plot(y,f)\n",
    "plt.plot(approx_min, approx_val, 'r*')\n",
    "plt.show()\n",
    "\n",
    "print(approx_min)"
   ]
  },
  {
   "cell_type": "markdown",
   "metadata": {},
   "source": [
    "The marginal problem is given by\n",
    "$$\n",
    "J_x(y) = |y|^4-2y^T\\psi(x)y-4\\varphi(x)^T y+C(x)\n",
    "$$\n",
    "where\n",
    "$$\n",
    "\\psi(x)=|x|^2-2\\int yy^T\\,d\\pi^*(x,y) +\\,\\text{Id}\\int |x|^2-|y|^2\\,d\\pi^*(x,y)\n",
    "$$\n",
    "\n",
    "$$\n",
    "\\varphi(x)=2\\left(\\int yx^T\\,d\\pi^*(x,y)\\right)x+\\int y(|y|^2-|x|^2)\\,d\\pi^*(x,y)\n",
    "$$\n",
    "\n",
    "In the one-dimensional case these all turn into scalars."
   ]
  },
  {
   "cell_type": "code",
   "execution_count": 121,
   "metadata": {},
   "outputs": [],
   "source": [
    "def find_moment_matrices_one_d(x,y):\n",
    "    #Finds the moment matrices associated with the marginal problem given input points x\n",
    "    #and current output points y.\n",
    "    \n",
    "    #x is assumed to by n x d and y is assumed to be 1xn.\n",
    "    \n",
    "    d = x.shape[1]\n",
    "    norm_x_squared = spla.norm(x,axis=1)**2\n",
    "    #print(norm_x_squared)\n",
    "    norm_y_squared = y**2\n",
    "    #print(norm_y_squared)\n",
    "    \n",
    "    psi = norm_x_squared - 2*np.mean(y**2) + np.mean(norm_x_squared -norm_y_squared)\n",
    "    phi = -4*(2*np.mean(np.outer(y,np.ones(d))*x,axis=0)@x.T + np.mean(y*(norm_y_squared-norm_x_squared)))\n",
    "    \n",
    "   \n",
    "    #print(psi)\n",
    "    #print(phi)\n",
    "    return [psi,phi]\n",
    "\n",
    "\n",
    "def update_y(psi,phi,x,y):\n",
    "    #returns new candidate values for y given current parameter values passed\n",
    "    #from find_moment_matrices\n",
    "    yout = np.zeros(y.shape)\n",
    "    \n",
    "    yout = quartic_one_d_vectorized(psi,phi,iterations=2000)\n",
    "    \n",
    "    #for i in range(len(y)):\n",
    "    #    yout[i] = quartic_one_d(psi[i],phi[i],iterations=1000)\n",
    "    return yout\n",
    "\n",
    "\n",
    "def improve_sol(x,y):\n",
    "    \n",
    "    [psi,phi] = find_moment_matrices_one_d(x,y)\n",
    "    return update_y(psi,phi,x,y)\n",
    "\n",
    "from sklearn.datasets import load_digits\n",
    "data=load_digits()\n",
    "color=data.target[:]\n",
    "x_data=data.data[:]\n",
    "'''\n",
    "k = 1000\n",
    "\n",
    "x_data = np.zeros((2*k,2))\n",
    "x_data[0:k,1] = .2\n",
    "x_data[k:,1] = -.2\n",
    "\n",
    "theta = np.linspace(0,2*np.pi, k//4)\n",
    "circle_data = np.zeros((k//4,2))\n",
    "circle_data[:,0] = np.cos(theta)\n",
    "circle_data[:,1] = np.sin(theta)\n",
    "x_data = np.vstack((x_data,circle_data))\n",
    "'''\n",
    "\n",
    "#y_init = np.random.uniform(-1,1,x_data.shape[0])\n",
    "#y_init = y_init-np.mean(y_init)\n",
    "\n",
    "y_init = 1.1*x_data@np.ones(64)\n",
    "#y_init = x_data[:,1]\n",
    "\n",
    "#print(y_init)"
   ]
  },
  {
   "cell_type": "code",
   "execution_count": 124,
   "metadata": {},
   "outputs": [],
   "source": [
    "y = y_init\n",
    "#[psi,phi] = find_moment_matrices_one_d(x_data,y)\n",
    "#plot_quartic(psi[0],phi[0])\n",
    "#print(psi[0],phi[0])\n",
    "\n",
    "\n",
    "for i in range(100):\n",
    "    y = improve_sol(x_data,y)\n",
    "    y = y-np.mean(y)\n",
    "    #print(y)"
   ]
  },
  {
   "cell_type": "code",
   "execution_count": 125,
   "metadata": {},
   "outputs": [
    {
     "data": {
      "image/png": "[encoded data removed]",
      "text/plain": [
       "<Figure size 432x288 with 1 Axes>"
      ]
     },
     "metadata": {
      "needs_background": "light"
     },
     "output_type": "display_data"
    }
   ],
   "source": [
    "plt.scatter(y,np.zeros(1797), c=color,cmap='tab10', alpha=0.5)\n",
    "plt.show()"
   ]
  },
  {
   "cell_type": "code",
   "execution_count": null,
   "metadata": {},
   "outputs": [],
   "source": []
  },
  {
   "cell_type": "code",
   "execution_count": null,
   "metadata": {},
   "outputs": [],
   "source": []
  }
 ],
 "metadata": {
  "kernelspec": {
   "display_name": "Python 3 (ipykernel)",
   "language": "python",
   "name": "python3"
  },
  "language_info": {
   "codemirror_mode": {
    "name": "ipython",
    "version": 3
   },
   "file_extension": ".py",
   "mimetype": "text/x-python",
   "name": "python",
   "nbconvert_exporter": "python",
   "pygments_lexer": "ipython3",
   "version": "3.9.12"
  }
 },
 "nbformat": 4,
 "nbformat_minor": 4
}
