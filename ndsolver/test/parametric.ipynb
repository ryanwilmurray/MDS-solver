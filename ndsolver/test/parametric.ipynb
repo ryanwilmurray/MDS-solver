{
 "cells": [
  {
   "cell_type": "code",
   "execution_count": 1,
   "metadata": {},
   "outputs": [
    {
     "name": "stdout",
     "output_type": "stream",
     "text": [
      "(100,)\n"
     ]
    },
    {
     "data": {
      "text/plain": [
       "array([-3067.12069715,  2812.60435552,  1976.49725477,   161.17132886])"
      ]
     },
     "execution_count": 1,
     "metadata": {},
     "output_type": "execute_result"
    }
   ],
   "source": [
    "import _path_init\n",
    "import numpy as np\n",
    "from ndsolver.versions.parametric import MM\n",
    "from sklearn.datasets import make_moons\n",
    "\n",
    "X = make_moons(n_samples=100, noise=0.1)[0]\n",
    "\n",
    "mm = MM(X, labels=[], m=1)\n",
    "mm.grad()\n"
   ]
  }
 ],
 "metadata": {
  "kernelspec": {
   "display_name": "Python 3",
   "language": "python",
   "name": "python3"
  },
  "language_info": {
   "codemirror_mode": {
    "name": "ipython",
    "version": 3
   },
   "file_extension": ".py",
   "mimetype": "text/x-python",
   "name": "python",
   "nbconvert_exporter": "python",
   "pygments_lexer": "ipython3",
   "version": "3.10.5"
  }
 },
 "nbformat": 4,
 "nbformat_minor": 2
}
