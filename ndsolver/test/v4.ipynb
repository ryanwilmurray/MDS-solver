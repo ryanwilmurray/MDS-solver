{
 "cells": [
  {
   "cell_type": "code",
   "execution_count": 1,
   "metadata": {},
   "outputs": [],
   "source": [
    "import _path_init\n",
    "import numpy as np\n",
    "from ndsolver.versions.v4 import MM"
   ]
  },
  {
   "cell_type": "code",
   "execution_count": 15,
   "metadata": {},
   "outputs": [
    {
     "name": "stdout",
     "output_type": "stream",
     "text": [
      "[[-0.44548375+0.j          0.21493361+0.5004213j   0.21493361-0.5004213j ]\n",
      " [-1.30163963+0.j         -0.51270654+1.52599675j -0.51270654-1.52599675j]\n",
      " [-0.32577828+0.j          1.03270939+1.04923234j  1.03270939-1.04923234j]\n",
      " [-0.47083177+0.j          1.67863855+1.03092063j  1.67863855-1.03092063j]\n",
      " [-0.16891522+0.j         -0.62466405+0.68504395j -0.62466405-0.68504395j]\n",
      " [ 3.39697378+0.j         -1.52357728+0.j          0.77190765+0.j        ]\n",
      " [ 0.14967384+0.j         -0.0232046 +0.42564341j -0.0232046 -0.42564341j]\n",
      " [-1.2781503 +0.j          7.08630279+4.8852111j   7.08630279-4.8852111j ]\n",
      " [ 0.12606059+0.j         -0.79258309+0.48608478j -0.79258309-0.48608478j]\n",
      " [-0.35939394+0.j          2.93702927+2.16027601j  2.93702927-2.16027601j]]\n",
      "(10, 3)\n"
     ]
    }
   ],
   "source": [
    "n, d, m = 10, 2, 1\n",
    "\n",
    "Y = np.random.randn(m, n)\n",
    "G = np.random.randn(m, n)\n",
    "psi = np.random.randn(n, m, m)\n",
    "phi = np.random.randn(n, m)\n",
    "\n",
    "MM.exact_line_search(Y, G, psi, phi)\n"
   ]
  }
 ],
 "metadata": {
  "kernelspec": {
   "display_name": "Python 3",
   "language": "python",
   "name": "python3"
  },
  "language_info": {
   "codemirror_mode": {
    "name": "ipython",
    "version": 3
   },
   "file_extension": ".py",
   "mimetype": "text/x-python",
   "name": "python",
   "nbconvert_exporter": "python",
   "pygments_lexer": "ipython3",
   "version": "3.10.5"
  }
 },
 "nbformat": 4,
 "nbformat_minor": 2
}
