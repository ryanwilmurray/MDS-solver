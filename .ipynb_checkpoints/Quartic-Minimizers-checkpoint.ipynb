{
 "cells": [
  {
   "cell_type": "markdown",
   "metadata": {},
   "source": [
    "Let's try to construct a function which finds the minimizer of a cubic, given its coefficients. To start, let's assume that\n",
    "\n",
    "$$f(y) = y^4 - 2ay^2 + by$$.\n",
    "\n",
    "Let's rewrite this as\n",
    "$$ f(y) = (y^2 - a)^2 + by + c$$\n",
    "\n",
    "If $b = 0$ then we immediately have that $y = \\pm \\sqrt{a}$. If $b > 0$ this leads us to suspect that $y = -\\sqrt{a}$ is a good initial guess, while if $b <0$ then we suspect that $y = +\\sqrt{a}$ is a good guess."
   ]
  },
  {
   "cell_type": "code",
   "execution_count": 28,
   "metadata": {},
   "outputs": [
    {
     "data": {
      "image/png": "[encoded data removed]",
      "text/plain": [
       "<Figure size 432x288 with 1 Axes>"
      ]
     },
     "metadata": {
      "needs_background": "light"
     },
     "output_type": "display_data"
    },
    {
     "name": "stdout",
     "output_type": "stream",
     "text": [
      "-1.4142135623730951\n"
     ]
    }
   ],
   "source": [
    "import numpy as np\n",
    "import matplotlib.pyplot as plt\n",
    "import scipy as sp\n",
    "import scipy.linalg as spla\n",
    "\n",
    "def quartic_one_d(a,b,iterations=100):\n",
    "    #Returns an approximate minimizer for a,b, as above.\n",
    "    \n",
    "    if a > 0:\n",
    "        if b == 0:\n",
    "            return np.sqrt(a)\n",
    "        elif b>0:\n",
    "            y0 = -np.sqrt(a)\n",
    "        else:\n",
    "            y0 = np.sqrt(a)\n",
    "    else:\n",
    "        y0 = 0\n",
    "    \n",
    "    \n",
    "    \n",
    "    step_strength = .1#*(np.abs(a) + np.abs(b))\n",
    "    \n",
    "    for i in range(iterations):\n",
    "        #print(step_strength*(b + 2*y0*2*(y0**2-a)))\n",
    "        #y0 -= step_strength*(b + 2*y0*2*(y0**2-a))\n",
    "        gradient = 4*y0**3 - 4*a*y0 + b\n",
    "        if np.abs(gradient) < step_strength:\n",
    "            y0 -= step_strength*(4*y0**3 - 4*a*y0 + b)\n",
    "        else:\n",
    "            y0 -= step_strength*gradient/np.abs(gradient)\n",
    "        #print(y0)\n",
    "    \n",
    "    return y0\n",
    "\n",
    "def quartic_one_d_vectorized(a,b,iterations=100):\n",
    "    y0 = np.zeros(a.shape)\n",
    "    \n",
    "    y0 = np.sqrt(np.abs(a))*(1.*(b <= 0) - 1.*(b >0))\n",
    "    \n",
    "    step_strength = .1#*(np.abs(a) + np.abs(b))\n",
    "    \n",
    "    for i in range(iterations):\n",
    "        #print(step_strength*(b + 2*y0*2*(y0**2-a)))\n",
    "        #y0 -= step_strength*(b + 2*y0*2*(y0**2-a))\n",
    "        gradient = 4*y0**3 - 4*a*y0 + b\n",
    "        \n",
    "        y0 -= step_strength*gradient/(np.abs(gradient) + step_strength**2)\n",
    "\n",
    "    \n",
    "    return y0\n",
    "\n",
    "def plot_quartic(a,b):\n",
    "    y = np.linspace(-3,3,100)\n",
    "\n",
    "    f = y**4 -2*a*y**2 + b*y\n",
    "\n",
    "    plt.plot(y,f)\n",
    "\n",
    "\n",
    "a = 2\n",
    "b = 1\n",
    "\n",
    "approx_min = quartic_one_d(a,b)\n",
    "approx_val = approx_min**4 - 2*a*approx_min**2 + b*approx_min\n",
    "\n",
    "y = np.linspace(-3,3,100)\n",
    "\n",
    "f = y**4 -2*a*y**2 + b*y\n",
    "\n",
    "plt.plot(y,f)\n",
    "plt.plot(approx_min, approx_val, 'r*')\n",
    "plt.show()\n",
    "\n",
    "print(approx_min)"
   ]
  },
  {
   "cell_type": "markdown",
   "metadata": {},
   "source": [
    "The marginal problem is given by\n",
    "$$\n",
    "J_x(y) = |y|^4-2y^T\\psi(x)y-4\\varphi(x)^T y+C(x)\n",
    "$$\n",
    "where\n",
    "$$\n",
    "\\psi(x)=|x|^2-2\\int yy^T\\,d\\pi^*(x,y) +\\,\\text{Id}\\int |x|^2-|y|^2\\,d\\pi^*(x,y)\n",
    "$$\n",
    "\n",
    "$$\n",
    "\\varphi(x)=2\\left(\\int yx^T\\,d\\pi^*(x,y)\\right)x+\\int y(|y|^2-|x|^2)\\,d\\pi^*(x,y)\n",
    "$$\n",
    "\n",
    "In the one-dimensional case these all turn into scalars."
   ]
  },
  {
   "cell_type": "code",
   "execution_count": 35,
   "metadata": {},
   "outputs": [
    {
     "name": "stdout",
     "output_type": "stream",
     "text": [
      "{'data': array([[ 0.,  0.,  5., ...,  0.,  0.,  0.],\n",
      "       [ 0.,  0.,  0., ..., 10.,  0.,  0.],\n",
      "       [ 0.,  0.,  0., ..., 16.,  9.,  0.],\n",
      "       ...,\n",
      "       [ 0.,  0.,  1., ...,  6.,  0.,  0.],\n",
      "       [ 0.,  0.,  2., ..., 12.,  0.,  0.],\n",
      "       [ 0.,  0., 10., ..., 12.,  1.,  0.]]), 'target': array([0, 1, 2, ..., 8, 9, 8]), 'frame': None, 'feature_names': ['pixel_0_0', 'pixel_0_1', 'pixel_0_2', 'pixel_0_3', 'pixel_0_4', 'pixel_0_5', 'pixel_0_6', 'pixel_0_7', 'pixel_1_0', 'pixel_1_1', 'pixel_1_2', 'pixel_1_3', 'pixel_1_4', 'pixel_1_5', 'pixel_1_6', 'pixel_1_7', 'pixel_2_0', 'pixel_2_1', 'pixel_2_2', 'pixel_2_3', 'pixel_2_4', 'pixel_2_5', 'pixel_2_6', 'pixel_2_7', 'pixel_3_0', 'pixel_3_1', 'pixel_3_2', 'pixel_3_3', 'pixel_3_4', 'pixel_3_5', 'pixel_3_6', 'pixel_3_7', 'pixel_4_0', 'pixel_4_1', 'pixel_4_2', 'pixel_4_3', 'pixel_4_4', 'pixel_4_5', 'pixel_4_6', 'pixel_4_7', 'pixel_5_0', 'pixel_5_1', 'pixel_5_2', 'pixel_5_3', 'pixel_5_4', 'pixel_5_5', 'pixel_5_6', 'pixel_5_7', 'pixel_6_0', 'pixel_6_1', 'pixel_6_2', 'pixel_6_3', 'pixel_6_4', 'pixel_6_5', 'pixel_6_6', 'pixel_6_7', 'pixel_7_0', 'pixel_7_1', 'pixel_7_2', 'pixel_7_3', 'pixel_7_4', 'pixel_7_5', 'pixel_7_6', 'pixel_7_7'], 'target_names': array([0, 1, 2, 3, 4, 5, 6, 7, 8, 9]), 'images': array([[[ 0.,  0.,  5., ...,  1.,  0.,  0.],\n",
      "        [ 0.,  0., 13., ..., 15.,  5.,  0.],\n",
      "        [ 0.,  3., 15., ..., 11.,  8.,  0.],\n",
      "        ...,\n",
      "        [ 0.,  4., 11., ..., 12.,  7.,  0.],\n",
      "        [ 0.,  2., 14., ..., 12.,  0.,  0.],\n",
      "        [ 0.,  0.,  6., ...,  0.,  0.,  0.]],\n",
      "\n",
      "       [[ 0.,  0.,  0., ...,  5.,  0.,  0.],\n",
      "        [ 0.,  0.,  0., ...,  9.,  0.,  0.],\n",
      "        [ 0.,  0.,  3., ...,  6.,  0.,  0.],\n",
      "        ...,\n",
      "        [ 0.,  0.,  1., ...,  6.,  0.,  0.],\n",
      "        [ 0.,  0.,  1., ...,  6.,  0.,  0.],\n",
      "        [ 0.,  0.,  0., ..., 10.,  0.,  0.]],\n",
      "\n",
      "       [[ 0.,  0.,  0., ..., 12.,  0.,  0.],\n",
      "        [ 0.,  0.,  3., ..., 14.,  0.,  0.],\n",
      "        [ 0.,  0.,  8., ..., 16.,  0.,  0.],\n",
      "        ...,\n",
      "        [ 0.,  9., 16., ...,  0.,  0.,  0.],\n",
      "        [ 0.,  3., 13., ..., 11.,  5.,  0.],\n",
      "        [ 0.,  0.,  0., ..., 16.,  9.,  0.]],\n",
      "\n",
      "       ...,\n",
      "\n",
      "       [[ 0.,  0.,  1., ...,  1.,  0.,  0.],\n",
      "        [ 0.,  0., 13., ...,  2.,  1.,  0.],\n",
      "        [ 0.,  0., 16., ..., 16.,  5.,  0.],\n",
      "        ...,\n",
      "        [ 0.,  0., 16., ..., 15.,  0.,  0.],\n",
      "        [ 0.,  0., 15., ..., 16.,  0.,  0.],\n",
      "        [ 0.,  0.,  2., ...,  6.,  0.,  0.]],\n",
      "\n",
      "       [[ 0.,  0.,  2., ...,  0.,  0.,  0.],\n",
      "        [ 0.,  0., 14., ..., 15.,  1.,  0.],\n",
      "        [ 0.,  4., 16., ..., 16.,  7.,  0.],\n",
      "        ...,\n",
      "        [ 0.,  0.,  0., ..., 16.,  2.,  0.],\n",
      "        [ 0.,  0.,  4., ..., 16.,  2.,  0.],\n",
      "        [ 0.,  0.,  5., ..., 12.,  0.,  0.]],\n",
      "\n",
      "       [[ 0.,  0., 10., ...,  1.,  0.,  0.],\n",
      "        [ 0.,  2., 16., ...,  1.,  0.,  0.],\n",
      "        [ 0.,  0., 15., ..., 15.,  0.,  0.],\n",
      "        ...,\n",
      "        [ 0.,  4., 16., ..., 16.,  6.,  0.],\n",
      "        [ 0.,  8., 16., ..., 16.,  8.,  0.],\n",
      "        [ 0.,  1.,  8., ..., 12.,  1.,  0.]]]), 'DESCR': \".. _digits_dataset:\\n\\nOptical recognition of handwritten digits dataset\\n--------------------------------------------------\\n\\n**Data Set Characteristics:**\\n\\n    :Number of Instances: 1797\\n    :Number of Attributes: 64\\n    :Attribute Information: 8x8 image of integer pixels in the range 0..16.\\n    :Missing Attribute Values: None\\n    :Creator: E. Alpaydin (alpaydin '@' boun.edu.tr)\\n    :Date: July; 1998\\n\\nThis is a copy of the test set of the UCI ML hand-written digits datasets\\nhttps://archive.ics.uci.edu/ml/datasets/Optical+Recognition+of+Handwritten+Digits\\n\\nThe data set contains images of hand-written digits: 10 classes where\\neach class refers to a digit.\\n\\nPreprocessing programs made available by NIST were used to extract\\nnormalized bitmaps of handwritten digits from a preprinted form. From a\\ntotal of 43 people, 30 contributed to the training set and different 13\\nto the test set. 32x32 bitmaps are divided into nonoverlapping blocks of\\n4x4 and the number of on pixels are counted in each block. This generates\\nan input matrix of 8x8 where each element is an integer in the range\\n0..16. This reduces dimensionality and gives invariance to small\\ndistortions.\\n\\nFor info on NIST preprocessing routines, see M. D. Garris, J. L. Blue, G.\\nT. Candela, D. L. Dimmick, J. Geist, P. J. Grother, S. A. Janet, and C.\\nL. Wilson, NIST Form-Based Handprint Recognition System, NISTIR 5469,\\n1994.\\n\\n.. topic:: References\\n\\n  - C. Kaynak (1995) Methods of Combining Multiple Classifiers and Their\\n    Applications to Handwritten Digit Recognition, MSc Thesis, Institute of\\n    Graduate Studies in Science and Engineering, Bogazici University.\\n  - E. Alpaydin, C. Kaynak (1998) Cascading Classifiers, Kybernetika.\\n  - Ken Tang and Ponnuthurai N. Suganthan and Xi Yao and A. Kai Qin.\\n    Linear dimensionalityreduction using relevance weighted LDA. School of\\n    Electrical and Electronic Engineering Nanyang Technological University.\\n    2005.\\n  - Claudio Gentile. A New Approximate Maximal Margin Classification\\n    Algorithm. NIPS. 2000.\\n\"}\n"
     ]
    },
    {
     "ename": "AttributeError",
     "evalue": "shape",
     "output_type": "error",
     "traceback": [
      "\u001b[0;31m---------------------------------------------------------------------------\u001b[0m",
      "\u001b[0;31mKeyError\u001b[0m                                  Traceback (most recent call last)",
      "File \u001b[0;32m~/opt/anaconda3/lib/python3.9/site-packages/sklearn/utils/__init__.py:117\u001b[0m, in \u001b[0;36mBunch.__getattr__\u001b[0;34m(self, key)\u001b[0m\n\u001b[1;32m    116\u001b[0m \u001b[38;5;28;01mtry\u001b[39;00m:\n\u001b[0;32m--> 117\u001b[0m     \u001b[38;5;28;01mreturn\u001b[39;00m \u001b[38;5;28;43mself\u001b[39;49m\u001b[43m[\u001b[49m\u001b[43mkey\u001b[49m\u001b[43m]\u001b[49m\n\u001b[1;32m    118\u001b[0m \u001b[38;5;28;01mexcept\u001b[39;00m \u001b[38;5;167;01mKeyError\u001b[39;00m:\n",
      "\u001b[0;31mKeyError\u001b[0m: 'shape'",
      "\nDuring handling of the above exception, another exception occurred:\n",
      "\u001b[0;31mAttributeError\u001b[0m                            Traceback (most recent call last)",
      "Input \u001b[0;32mIn [35]\u001b[0m, in \u001b[0;36m<cell line: 57>\u001b[0;34m()\u001b[0m\n\u001b[1;32m     42\u001b[0m \u001b[38;5;124;03m'''\u001b[39;00m\n\u001b[1;32m     43\u001b[0m \u001b[38;5;124;03mk = 1000\u001b[39;00m\n\u001b[1;32m     44\u001b[0m \n\u001b[0;32m   (...)\u001b[0m\n\u001b[1;32m     53\u001b[0m \u001b[38;5;124;03mx_data = np.vstack((x_data,circle_data))\u001b[39;00m\n\u001b[1;32m     54\u001b[0m \u001b[38;5;124;03m'''\u001b[39;00m\n\u001b[1;32m     55\u001b[0m \u001b[38;5;28mprint\u001b[39m(x_data)\n\u001b[0;32m---> 57\u001b[0m y_init \u001b[38;5;241m=\u001b[39m np\u001b[38;5;241m.\u001b[39mrandom\u001b[38;5;241m.\u001b[39muniform(\u001b[38;5;241m-\u001b[39m\u001b[38;5;241m1\u001b[39m,\u001b[38;5;241m1\u001b[39m,\u001b[43mx_data\u001b[49m\u001b[38;5;241;43m.\u001b[39;49m\u001b[43mshape\u001b[49m[\u001b[38;5;241m0\u001b[39m])\n\u001b[1;32m     58\u001b[0m y_init \u001b[38;5;241m=\u001b[39m y_init\u001b[38;5;241m-\u001b[39mnp\u001b[38;5;241m.\u001b[39mmean(y_init)\n",
      "File \u001b[0;32m~/opt/anaconda3/lib/python3.9/site-packages/sklearn/utils/__init__.py:119\u001b[0m, in \u001b[0;36mBunch.__getattr__\u001b[0;34m(self, key)\u001b[0m\n\u001b[1;32m    117\u001b[0m     \u001b[38;5;28;01mreturn\u001b[39;00m \u001b[38;5;28mself\u001b[39m[key]\n\u001b[1;32m    118\u001b[0m \u001b[38;5;28;01mexcept\u001b[39;00m \u001b[38;5;167;01mKeyError\u001b[39;00m:\n\u001b[0;32m--> 119\u001b[0m     \u001b[38;5;28;01mraise\u001b[39;00m \u001b[38;5;167;01mAttributeError\u001b[39;00m(key)\n",
      "\u001b[0;31mAttributeError\u001b[0m: shape"
     ]
    }
   ],
   "source": [
    "def find_moment_matrices_one_d(x,y):\n",
    "    #Finds the moment matrices associated with the marginal problem given input points x\n",
    "    #and current output points y.\n",
    "    \n",
    "    #x is assumed to by n x d and y is assumed to be 1xn.\n",
    "    \n",
    "    d = x.shape[1]\n",
    "    norm_x_squared = spla.norm(x,axis=1)**2\n",
    "    #print(norm_x_squared)\n",
    "    norm_y_squared = y**2\n",
    "    #print(norm_y_squared)\n",
    "    \n",
    "    psi = norm_x_squared - 2*np.mean(y**2) + np.mean(norm_x_squared -norm_y_squared)\n",
    "    phi = -4*(2*np.mean(np.outer(y,np.ones(d))*x,axis=0)@x.T + np.mean(y*(norm_y_squared-norm_x_squared)))\n",
    "    \n",
    "   \n",
    "    #print(psi)\n",
    "    #print(phi)\n",
    "    return [psi,phi]\n",
    "\n",
    "\n",
    "def update_y(psi,phi,x,y):\n",
    "    #returns new candidate values for y given current parameter values passed\n",
    "    #from find_moment_matrices\n",
    "    yout = np.zeros(y.shape)\n",
    "    \n",
    "    yout = quartic_one_d_vectorized(psi,phi,iterations=1000)\n",
    "    \n",
    "    #for i in range(len(y)):\n",
    "    #    yout[i] = quartic_one_d(psi[i],phi[i],iterations=1000)\n",
    "    return yout\n",
    "\n",
    "\n",
    "def improve_sol(x,y):\n",
    "    \n",
    "    [psi,phi] = find_moment_matrices_one_d(x,y)\n",
    "    return update_y(psi,phi,x,y)\n",
    "\n",
    "from sklearn.datasets import load_digits\n",
    "x_data=load_digits()\n",
    "\n",
    "'''\n",
    "k = 1000\n",
    "\n",
    "x_data = np.zeros((2*k,2))\n",
    "x_data[0:k,1] = .2\n",
    "x_data[k:,1] = -.2\n",
    "\n",
    "theta = np.linspace(0,2*np.pi, k//4)\n",
    "circle_data = np.zeros((k//4,2))\n",
    "circle_data[:,0] = np.cos(theta)\n",
    "circle_data[:,1] = np.sin(theta)\n",
    "x_data = np.vstack((x_data,circle_data))\n",
    "'''\n",
    "print(x_data)\n",
    "\n",
    "y_init = np.random.uniform(-1,1,x_data.shape[0])\n",
    "y_init = y_init-np.mean(y_init)\n",
    "\n",
    "#y_init = 1.1*x_data@np.ones(2)\n",
    "#y_init = x_data[:,1]\n",
    "\n",
    "#print(y_init)"
   ]
  },
  {
   "cell_type": "code",
   "execution_count": 30,
   "metadata": {},
   "outputs": [],
   "source": [
    "y = y_init\n",
    "#[psi,phi] = find_moment_matrices_one_d(x_data,y)\n",
    "#plot_quartic(psi[0],phi[0])\n",
    "#print(psi[0],phi[0])\n",
    "\n",
    "\n",
    "for i in range(20):\n",
    "    y = improve_sol(x_data,y)\n",
    "    y = y-np.mean(y)\n",
    "    #print(y)"
   ]
  },
  {
   "cell_type": "code",
   "execution_count": 31,
   "metadata": {},
   "outputs": [
    {
     "data": {
      "image/png": "[encoded data removed]",
      "text/plain": [
       "<Figure size 432x288 with 2 Axes>"
      ]
     },
     "metadata": {
      "needs_background": "light"
     },
     "output_type": "display_data"
    }
   ],
   "source": [
    "plt.scatter(x_data[:,0], x_data[:,1], c=y, alpha=0.5)\n",
    "plt.colorbar()\n",
    "plt.show()"
   ]
  },
  {
   "cell_type": "code",
   "execution_count": null,
   "metadata": {},
   "outputs": [],
   "source": []
  },
  {
   "cell_type": "code",
   "execution_count": null,
   "metadata": {},
   "outputs": [],
   "source": []
  }
 ],
 "metadata": {
  "kernelspec": {
   "display_name": "Python 3 (ipykernel)",
   "language": "python",
   "name": "python3"
  },
  "language_info": {
   "codemirror_mode": {
    "name": "ipython",
    "version": 3
   },
   "file_extension": ".py",
   "mimetype": "text/x-python",
   "name": "python",
   "nbconvert_exporter": "python",
   "pygments_lexer": "ipython3",
   "version": "3.9.12"
  }
 },
 "nbformat": 4,
 "nbformat_minor": 4
}
